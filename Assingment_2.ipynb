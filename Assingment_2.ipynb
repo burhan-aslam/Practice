{
 "cells": [
  {
   "cell_type": "code",
   "execution_count": 1,
   "metadata": {},
   "outputs": [
    {
     "name": "stdout",
     "output_type": "stream",
     "text": [
      "Enter thr Marks of first subject 67\n",
      "Enter the Marks of second subject 76\n",
      "Enter the Marks of third subject 67\n",
      "Enter the Marks of fourth subject 76\n",
      "Enter the Marks of fifth subject 67\n",
      "You got B grade\n"
     ]
    }
   ],
   "source": [
    "first = int(input(\"Enter thr Marks of first subject \"))\n",
    "second = int(input(\"Enter the Marks of second subject \"))\n",
    "third = int(input(\"Enter the Marks of third subject \"))\n",
    "fourth = int(input(\"Enter the Marks of fourth subject \"))\n",
    "fifth = int(input(\"Enter the Marks of fifth subject \"))\n",
    "total = first + second + third + fifth + fourth\n",
    "total = (total/5);\n",
    "if total >= 90:\n",
    "    print(\"You got A+ grade\")\n",
    "elif total >=80:\n",
    "    print(\"You got A grade\")\n",
    "elif total >= 70:\n",
    "    print(\"You got B grade\")\n",
    "elif total >= 60:\n",
    "    print(\"You got C grade\")\n",
    "else :\n",
    "    print(\"You have failed\")\n",
    "    "
   ]
  },
  {
   "cell_type": "code",
   "execution_count": 2,
   "metadata": {},
   "outputs": [
    {
     "name": "stdout",
     "output_type": "stream",
     "text": [
      "Enter any number6\n",
      "The number is EVEN\n"
     ]
    }
   ],
   "source": [
    "number = int(input(\"Enter any number\"))\n",
    "remainder = number%2\n",
    "if remainder == 0:\n",
    "    print(\"The number is EVEN\")\n",
    "else :\n",
    "    print(\"The number is ODD\")"
   ]
  },
  {
   "cell_type": "code",
   "execution_count": 3,
   "metadata": {},
   "outputs": [
    {
     "name": "stdout",
     "output_type": "stream",
     "text": [
      "9\n"
     ]
    }
   ],
   "source": [
    "num_list= 1, 2, 3, 4, 5, 6, 7, 8, 9\n",
    "print(len(num_list))"
   ]
  },
  {
   "cell_type": "code",
   "execution_count": null,
   "metadata": {},
   "outputs": [],
   "source": [
    "num_list= 1, 2, 3, 4, 5, 6, 7, 8, 9\n",
    "x = 0\n",
    "sum_list = 0\n",
    "while (x < 9):\n",
    "    sum_list = sum_list+num_list[x]\n",
    "    x +=1\n",
    "print(sum_list)"
   ]
  },
  {
   "cell_type": "code",
   "execution_count": null,
   "metadata": {},
   "outputs": [],
   "source": [
    "num_list= [1, 22, 13, 64, 5, 6, 17, 81, 9]\n",
    "max_list = max(num_list)\n",
    "print(max_list)"
   ]
  },
  {
   "cell_type": "code",
   "execution_count": null,
   "metadata": {},
   "outputs": [],
   "source": [
    "a = [1, 1, 2, 3, 5, 8, 13, 21, 34, 55, 89]\n",
    "x = 0\n",
    "y = len(a)\n",
    "while(x < 11) :\n",
    "    if(a[x] < 5):\n",
    "        print(a[x])\n",
    "    x = 1 + x \n",
    "print(\"All number printed that are less than 5 in a list\")"
   ]
  },
  {
   "cell_type": "code",
   "execution_count": null,
   "metadata": {},
   "outputs": [],
   "source": []
  },
  {
   "cell_type": "code",
   "execution_count": null,
   "metadata": {},
   "outputs": [],
   "source": []
  }
 ],
 "metadata": {
  "kernelspec": {
   "display_name": "Python 3",
   "language": "python",
   "name": "python3"
  },
  "language_info": {
   "codemirror_mode": {
    "name": "ipython",
    "version": 3
   },
   "file_extension": ".py",
   "mimetype": "text/x-python",
   "name": "python",
   "nbconvert_exporter": "python",
   "pygments_lexer": "ipython3",
   "version": "3.7.4"
  }
 },
 "nbformat": 4,
 "nbformat_minor": 2
}
