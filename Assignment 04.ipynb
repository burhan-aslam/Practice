{
 "cells": [
  {
   "cell_type": "code",
   "execution_count": 2,
   "metadata": {},
   "outputs": [
    {
     "name": "stdout",
     "output_type": "stream",
     "text": [
      "The initial info about person is\n",
      "{'first_name': 'Saad', 'last_name': 'Ahmed', 'age': '26', 'city': 'Hyderabad'}\n",
      "{'first_name': 'Saad', 'last_name': 'Ahmed', 'age': '26', 'city': 'Hyderabad', 'qualification': 'Matric'}\n",
      "{'first_name': 'Saad', 'last_name': 'Ahmed', 'age': '26', 'city': 'Hyderabad', 'qualification': 'Intermediate'}\n",
      "{'first_name': 'Saad', 'last_name': 'Ahmed', 'age': '26', 'city': 'Hyderabad', 'qualification': 'BE Electronics'}\n",
      "{'first_name': 'Saad', 'last_name': 'Ahmed', 'age': '26', 'city': 'Hyderabad'}\n"
     ]
    }
   ],
   "source": [
    "#Burhan Aslam\n",
    "#burhan.aslam11@outlook.com\n",
    "#github.com/burhan-aslam/Practice\n",
    "\n",
    "person_info = {\"first_name\":\"Saad\",\"last_name\":\"Ahmed\",\"age\":\"26\",\"city\":\"Hyderabad\"}\n",
    "\n",
    "print(\"The initial info about person is\")\n",
    "print(person_info)\n",
    "person_info.update({\"qualification\":\"Matric\"})\n",
    "print(person_info)\n",
    "person_info['qualification'] = \"Intermediate\"\n",
    "print(person_info)\n",
    "person_info['qualification'] = \"BE Electronics\"\n",
    "print(person_info)\n",
    "del person_info['qualification']\n",
    "print(person_info)"
   ]
  },
  {
   "cell_type": "code",
   "execution_count": null,
   "metadata": {},
   "outputs": [],
   "source": []
  }
 ],
 "metadata": {
  "kernelspec": {
   "display_name": "Python 3",
   "language": "python",
   "name": "python3"
  },
  "language_info": {
   "codemirror_mode": {
    "name": "ipython",
    "version": 3
   },
   "file_extension": ".py",
   "mimetype": "text/x-python",
   "name": "python",
   "nbconvert_exporter": "python",
   "pygments_lexer": "ipython3",
   "version": "3.7.4"
  }
 },
 "nbformat": 4,
 "nbformat_minor": 2
}
