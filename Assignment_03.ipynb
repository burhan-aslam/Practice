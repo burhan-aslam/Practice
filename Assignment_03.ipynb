{
 "cells": [
  {
   "cell_type": "code",
   "execution_count": 2,
   "metadata": {},
   "outputs": [
    {
     "name": "stdout",
     "output_type": "stream",
     "text": [
      "Enter first value 3\n",
      "Enter Desire Operator +, -, *, /, %, ***\n",
      "Enter second value 4\n",
      "Multiplication is equal = 12\n"
     ]
    }
   ],
   "source": [
    "# Name : Burhan Aslam\n",
    "# Email : burhan.aslam11@outlook.com\n",
    "\n",
    "number1 = int(input(\"Enter first value \"))\n",
    "operator = input(\"Enter Desire Operator +, -, *, /, %, **\")\n",
    "number2 = int(input(\"Enter second value \"))\n",
    "\n",
    "if operator == '+':\n",
    "    result = number1+number2\n",
    "    print(\"Addition is equal = \" + str(result))\n",
    "elif operator == '-':\n",
    "    result = number1-number2\n",
    "    print(\"Subtraction is equal = \" + str(result))\n",
    "elif operator == '*':\n",
    "    result = number1*number2\n",
    "    print(\"Multiplication is equal = \" + str(result))\n",
    "elif operator == '/':\n",
    "    result = val1+val2\n",
    "    print(\"Division is equal = \" + str(result))\n",
    "elif operator == '%':\n",
    "    result = val1%val2\n",
    "    print(\"Remainder is equal = \" + str(result))\n",
    "elif operator == '**':\n",
    "    result = val1**val2\n",
    "    print(\"Power is equal = \" + str(result))\n",
    "    \n",
    "else:\n",
    "    print(\"Please Enter the Desire Operator +, -, /, %, *, **\")"
   ]
  },
  {
   "cell_type": "code",
   "execution_count": 7,
   "metadata": {},
   "outputs": [
    {
     "name": "stdout",
     "output_type": "stream",
     "text": [
      "1\n",
      "2\n",
      "6\n"
     ]
    }
   ],
   "source": [
    "list_value =[1,2,\"3g\",6,\"4\",]\n",
    "for a in list_value:\n",
    "    if (type(a) == int):\n",
    "        print(a)"
   ]
  },
  {
   "cell_type": "code",
   "execution_count": 14,
   "metadata": {},
   "outputs": [
    {
     "name": "stdout",
     "output_type": "stream",
     "text": [
      "{'val1': '', 'val2': ''}\n",
      "the added value to the dictionary keys are: \n",
      "{'val1': 'burhan', 'val2': 'aslam'}\n"
     ]
    }
   ],
   "source": [
    "dic_list = {\"val1\" : \"\" , \"val2\" :\"\"}\n",
    "print(dic_list)\n",
    "dic_list['val1'] =\"burhan\"\n",
    "dic_list['val2'] =\"aslam\"\n",
    "print(\"the added value to the dictionary keys are: \")\n",
    "print(dic_list)"
   ]
  },
  {
   "cell_type": "code",
   "execution_count": 25,
   "metadata": {
    "scrolled": true
   },
   "outputs": [
    {
     "name": "stdout",
     "output_type": "stream",
     "text": [
      "Sum of dictionary values is :\n"
     ]
    },
    {
     "data": {
      "text/plain": [
       "110"
      ]
     },
     "execution_count": 25,
     "metadata": {},
     "output_type": "execute_result"
    }
   ],
   "source": [
    "dic_list={'a':11,'b':22,'c':33, 'd':44}\n",
    "print(\"Sum of dictionary values is :\")\n",
    "sum(dic_list.values())"
   ]
  },
  {
   "cell_type": "code",
   "execution_count": 27,
   "metadata": {},
   "outputs": [
    {
     "name": "stdout",
     "output_type": "stream",
     "text": [
      "3\n",
      "3\n",
      "5\n",
      "5\n",
      "9\n",
      "9\n",
      "9\n"
     ]
    }
   ],
   "source": [
    "list_val =[1,2,3,3,4,5,5,6,7,8,9,9,9]\n",
    "\n",
    "for x in list_val:\n",
    "    if list_val.count(x) > 1:\n",
    "        print(x)"
   ]
  },
  {
   "cell_type": "code",
   "execution_count": 41,
   "metadata": {},
   "outputs": [
    {
     "name": "stdout",
     "output_type": "stream",
     "text": [
      "ENTER THE DICTIONARY VALUE TO VERIFY  age\n",
      "Yes age is present in dictionary\n"
     ]
    }
   ],
   "source": [
    "# 6. Write a Python script to check if a given key already exists in a dictionary\n",
    "\n",
    "dict_list = {\"name\": \"aslam\", \"age\": 27, \"qualification\": \"MSc.\"}\n",
    "value=input(\"ENTER THE DICTIONARY VALUE TO VERIFY  \")\n",
    "if value in dict_list:\n",
    "    print(\"Yes \" + value + \" is present in dictionary\")\n",
    "else :\n",
    "    print(\"Enter value not in list\")"
   ]
  }
 ],
 "metadata": {
  "kernelspec": {
   "display_name": "Python 3",
   "language": "python",
   "name": "python3"
  },
  "language_info": {
   "codemirror_mode": {
    "name": "ipython",
    "version": 3
   },
   "file_extension": ".py",
   "mimetype": "text/x-python",
   "name": "python",
   "nbconvert_exporter": "python",
   "pygments_lexer": "ipython3",
   "version": "3.7.4"
  }
 },
 "nbformat": 4,
 "nbformat_minor": 2
}
