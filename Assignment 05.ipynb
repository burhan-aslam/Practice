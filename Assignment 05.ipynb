{
 "cells": [
  {
   "cell_type": "code",
   "execution_count": 4,
   "metadata": {},
   "outputs": [
    {
     "name": "stdout",
     "output_type": "stream",
     "text": [
      "24\n"
     ]
    }
   ],
   "source": [
    "#burhan.aslam11@outlook.com\n",
    "#Assignment # 05\n",
    "#Question # 01: Factorial of a Number...\n",
    "\n",
    "def fact(num):\n",
    "    result = num\n",
    "    while(num>1):\n",
    "        result = result*(num-1)\n",
    "        num = num-1\n",
    "    print(result)\n",
    "    \n",
    "fact(4)"
   ]
  },
  {
   "cell_type": "code",
   "execution_count": 3,
   "metadata": {},
   "outputs": [
    {
     "name": "stdout",
     "output_type": "stream",
     "text": [
      "Upper Characters = 6 and Lower characters = 0\n"
     ]
    }
   ],
   "source": [
    "#burhan.aslam11@outlook.com\n",
    "#Assignment # 05\n",
    "#Question # 02: Count upper and lower case in a string\n",
    "\n",
    "def characters(value):\n",
    "    stop = len(value)\n",
    "    countUP = 0\n",
    "    countLO = 0\n",
    "    rep = 0\n",
    "    while(rep<stop):\n",
    "        if(value[rep].isupper):\n",
    "            countUP = countUP + 1\n",
    "        elif(value[rep].islower):\n",
    "            countLO = countLO + 1\n",
    "        rep = rep + 1\n",
    "    print(\"Upper Characters = \" + str(countUP) + \" and \" + \"Lower characters = \" + str(countLO))\n",
    "\n",
    "    \n",
    "characters(\"burhan\")"
   ]
  },
  {
   "cell_type": "code",
   "execution_count": 5,
   "metadata": {},
   "outputs": [
    {
     "name": "stdout",
     "output_type": "stream",
     "text": [
      "2\n",
      "6\n",
      "8\n"
     ]
    }
   ],
   "source": [
    "#burhan.aslam11@outlook.com\n",
    "#Assignment # 05\n",
    "#Question # 03: Print only EVEN numbers from list of mixed number\n",
    "\n",
    "def numEven(number):\n",
    "    result = number%2\n",
    "    if(result==0):\n",
    "        print(number)\n",
    "    \n",
    "num = [2,3,5,6,7,8,9]\n",
    "for val in num:\n",
    "    numEven(val)"
   ]
  },
  {
   "cell_type": "code",
   "execution_count": 1,
   "metadata": {},
   "outputs": [
    {
     "name": "stdout",
     "output_type": "stream",
     "text": [
      "Isi\n",
      "The string is a palindrome.\n"
     ]
    }
   ],
   "source": [
    "#burhan.aslam11@outlook.com\n",
    "#Assignment # 05\n",
    "#Question # 04: Check palindrome\n",
    "\n",
    "def pelidrome(mystr):\n",
    "    my_str = mystr.casefold() #convert string into lower case...\n",
    "    rev_str = reversed(my_str) # reverse the string\n",
    "    if list(my_str) == list(rev_str): # check if the string is equal to its reverse order\n",
    "        print(\"The string is a palindrome.\") #print if the string is palindrome\n",
    "    else:\n",
    "        print(\"The string is not a palindrome.\") #print if the string is not palindrome\n",
    "\n",
    "strr = input()\n",
    "pelidrome(strr)"
   ]
  },
  {
   "cell_type": "code",
   "execution_count": 2,
   "metadata": {},
   "outputs": [
    {
     "name": "stdout",
     "output_type": "stream",
     "text": [
      "Is a Prime Number\n"
     ]
    }
   ],
   "source": [
    "#burhan.aslam11@outlook.com\n",
    "#Assignment # 05\n",
    "#Question # 05: Check Prime Number\n",
    "\n",
    "def isprime(n):\n",
    "    if (n==1):\n",
    "        print(\"Not a Prime Number\")\n",
    "    elif (n==2):\n",
    "        print(\"Is a Prime Number\")\n",
    "    else:\n",
    "        for x in range(2,n+1):\n",
    "            if((n % x)==0):\n",
    "                if (x!=n):\n",
    "                    print(\"Not a Prime Number\")\n",
    "                    x=n\n",
    "                elif (x==n):\n",
    "                    print(\"Is a Prime Number\")   \n",
    "        \n",
    "isprime(11)"
   ]
  },
  {
   "cell_type": "code",
   "execution_count": null,
   "metadata": {},
   "outputs": [],
   "source": [
    "#burhan.aslam11@outlook.com\n",
    "#Assignment # 05\n",
    "#Question #06: Print shopping items\n",
    "\n",
    "def display_items(*itemss):\n",
    "    print(\"the Shopping items are \", itemss)\n",
    "\n",
    "display_items(\"Shirts\", \"Pants\", \"Jackets\")"
   ]
  }
 ],
 "metadata": {
  "kernelspec": {
   "display_name": "Python 3",
   "language": "python",
   "name": "python3"
  },
  "language_info": {
   "codemirror_mode": {
    "name": "ipython",
    "version": 3
   },
   "file_extension": ".py",
   "mimetype": "text/x-python",
   "name": "python",
   "nbconvert_exporter": "python",
   "pygments_lexer": "ipython3",
   "version": "3.7.4"
  }
 },
 "nbformat": 4,
 "nbformat_minor": 2
}
