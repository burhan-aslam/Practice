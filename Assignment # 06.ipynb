{
 "cells": [
  {
   "cell_type": "code",
   "execution_count": null,
   "metadata": {},
   "outputs": [],
   "source": [
    "Question 1: Define Object Oriented Programming Language?\n",
    "Answer : Object-oriented programming (OOP) is a programming language model in which programs are organized around data, \n",
    "         or objects, rather than functions and logic. An object can be defined as a data field that has unique attributes and \n",
    "         behavior.Examples of an object can range from physical entities, such as a human being that is described by properties \n",
    "         like name and address\n",
    "        \n"
   ]
  },
  {
   "cell_type": "code",
   "execution_count": null,
   "metadata": {},
   "outputs": [],
   "source": [
    "Question 2: List down the Benefits of OOP?\n",
    "\n",
    "Answer: It provides a clear modular structure for programs which makes it good for defining abstract datatypes in which \n",
    "        implementation details are hidden.\n",
    "        Objects can also be reused within an across applications. The reuse of software also lowers the cost of development. \n",
    "        More effort is put into the object-oriented analysis and design, which lowers the overall cost of development.It makes \n",
    "        software easier to maintain. Since the design is modular, part of the system can be updated in case of issues without \n",
    "        a need to make large-scale changes. Reuse also enables faster development. Object-oriented programming languages come \n",
    "        with rich libraries of objects, and code developed during projects is also reusable in future projects.\n",
    "        It provides a good framework for code libraries where the supplied software components can be easily adapted and \n",
    "        modified by the programmer. This is particularly useful for developing graphical user interfaces."
   ]
  },
  {
   "cell_type": "code",
   "execution_count": null,
   "metadata": {},
   "outputs": [],
   "source": [
    "Question 3 Differentiate between function and method?\n",
    "\n",
    "Answer: A function is a piece of code that is called by name. It can be passed data to operate on (i.e. the parameters) and \n",
    "        can optionally return data (the return value). All data that is passed to a function is explicitly passed.\n",
    "        A method is a piece of code that is called by a name that is associated with an object. In most respects it is identical\n",
    "        to a function except for two key differences:\n",
    "        1- A method is implicitly passed the object on which it was called.\n",
    "        2- A method is able to operate on data that is contained within the class \n",
    "        (remembering that an object is an instance of a class - the class is the definition, the object is an instance of \n",
    "         that data)."
   ]
  },
  {
   "cell_type": "code",
   "execution_count": null,
   "metadata": {},
   "outputs": [],
   "source": [
    "Question 4Define the following terms:\n",
    "1.Class 2.Object 3.Attribute 4.Behavior\n",
    "\n",
    "Class:  A class describes the contents of the objects that belong to it: it describes an aggregate of data fields \n",
    "        (called instance variables), and defines the operations (called methods).\n",
    "\n",
    "Object: An object is an element (or instance) of a class; objects have the behaviors of their class. The object is the \n",
    "        actual component of programs, while the class specifies how instances are created and how they behave.:\n",
    "\n",
    "Attributes: Attributes are the individual things that differentiate one object from another and determine the appearance, state,\n",
    "            or other qualities of that object. Let's create a theoretical class called Motorcycle. A motorcycle class might \n",
    "            include the following attributes and have these typical values:\n",
    "            Color: red, green, silver, brown\n",
    "            Style: cruiser, sport bike, standard\n",
    "            Make: Honda, BMW, Bultaco\n",
    "\n",
    "Behavior: Behavior determines how an instance of that class operates; for example, how it will react if asked to do something \n",
    "    by another class or object or if its internal state changes. Behavior is the only way objects can do anything to themselves\n",
    "    or have anything done to them. For example, to go back to the theoretical Motorcycle class, here are some behaviors that \n",
    "    the Motorcycle class might have: \n",
    "    Start the engine,\n",
    "    Stop the engine and\n",
    "    Speed up."
   ]
  },
  {
   "cell_type": "code",
   "execution_count": 2,
   "metadata": {},
   "outputs": [
    {
     "name": "stdout",
     "output_type": "stream",
     "text": [
      "Mera Silver 2 Daihatsu 2014\n",
      "Cultus is stopped.\n",
      "City is now being drived.\n"
     ]
    }
   ],
   "source": [
    "class Car:\n",
    "    def __init__(self, name, color, doors, brand, model):\n",
    "        self.name = name\n",
    "        self.color =  color\n",
    "        self.doors = doors\n",
    "        self.model = model\n",
    "        self.brand = brand\n",
    "    def printCar(self):\n",
    "        print(self.name,self.color, self.doors,self.brand, self.model)\n",
    "    def drive(self):\n",
    "        print(self.name, \"is now being drived.\")\n",
    "    def stop(self):\n",
    "        print(self.name, \"is stopped.\")\n",
    "car1 = Car(\"Cultus\", \"White\", 4, \"Suzuki\", 2012)\n",
    "car2 = Car(\"Mera\", \"Silver\", 2, \"Daihatsu\", 2014)\n",
    "car3 = Car(\"City\", \"Black\", 4, \"Honda\", 2016)\n",
    "car2.printCar()\n",
    "car1.stop()\n",
    "car3.drive()"
   ]
  },
  {
   "cell_type": "code",
   "execution_count": null,
   "metadata": {},
   "outputs": [],
   "source": []
  }
 ],
 "metadata": {
  "kernelspec": {
   "display_name": "Python 3",
   "language": "python",
   "name": "python3"
  },
  "language_info": {
   "codemirror_mode": {
    "name": "ipython",
    "version": 3
   },
   "file_extension": ".py",
   "mimetype": "text/x-python",
   "name": "python",
   "nbconvert_exporter": "python",
   "pygments_lexer": "ipython3",
   "version": "3.7.4"
  }
 },
 "nbformat": 4,
 "nbformat_minor": 2
}
